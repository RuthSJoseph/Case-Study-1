{
 "cells": [
  {
   "cell_type": "code",
   "execution_count": 40,
   "id": "1c7aca08",
   "metadata": {},
   "outputs": [
    {
     "name": "stdout",
     "output_type": "stream",
     "text": [
      "Enter Marks : 55\n",
      "C\n"
     ]
    }
   ],
   "source": [
    "#QUESTION 1 \n",
    "\n",
    "marks=int(input(\"Enter Marks : \"))\n",
    "if marks<25:\n",
    "  print(\"F\")\n",
    "elif marks>=25 and marks<45:\n",
    "  print(\"E\")\n",
    "elif marks>=45 and marks<50:\n",
    "  print(\"D\")\n",
    "elif marks>=50 and marks<60:\n",
    "  print(\"C\")\n",
    "elif marks>=60 and marks<80:\n",
    "  print(\"B\")\n",
    "else:\n",
    "  print(\"A\")"
   ]
  },
  {
   "cell_type": "code",
   "execution_count": 41,
   "id": "16b2544a",
   "metadata": {},
   "outputs": [
    {
     "name": "stdout",
     "output_type": "stream",
     "text": [
      "Enter Length : 45\n",
      "Enter Breadth : 45\n",
      "Yes, it is square\n"
     ]
    }
   ],
   "source": [
    "#QUESTION 3\n",
    "\n",
    "length=int(input(\"Enter Length : \"))\n",
    "breadth=int(input(\"Enter Breadth : \"))\n",
    "if length == breadth:\n",
    "  print (\"Yes, it is square\")\n",
    "else:\n",
    "  print (\"No, it is only Rectangle\")"
   ]
  },
  {
   "cell_type": "code",
   "execution_count": 42,
   "id": "c09e6f5b",
   "metadata": {},
   "outputs": [
    {
     "name": "stdout",
     "output_type": "stream",
     "text": [
      "Number of classes held : 16\n",
      "Number of classes attended : 15\n",
      "Attendence is 93.75\n",
      "You are allowed to sit in exam\n"
     ]
    }
   ],
   "source": [
    "#QUESTION 4\n",
    "\n",
    "\n",
    "held=int(input(\"Number of classes held : \"))\n",
    "att=int(input(\"Number of classes attended : \"))\n",
    "percent=float(att/held)*100\n",
    "print (\"Attendence is\",percent)\n",
    "if percent>= 75:\n",
    "  print (\"You are allowed to sit in exam\")\n",
    "else:\n",
    "  print (\"Sorry, you are not allowed. Attend more classes from next time.\")\n"
   ]
  },
  {
   "cell_type": "code",
   "execution_count": 43,
   "id": "96da8e8d",
   "metadata": {},
   "outputs": [
    {
     "name": "stdout",
     "output_type": "stream",
     "text": [
      "Enter number of elements : 4\n",
      "1\n",
      "2\n",
      "3\n",
      "4\n",
      "[1, 2, 3, 4]\n",
      "Sum :  10\n",
      "Even lists: [2, 4]\n",
      "Odd lists: [1, 3]\n"
     ]
    }
   ],
   "source": [
    "#QUESTION 5\n",
    "\n",
    "\n",
    "list1= []\n",
    "n = int(input(\"Enter number of elements : \"))\n",
    "\n",
    "for i in range(0, n):\n",
    "    ele = int(input())\n",
    "  \n",
    "    list1.append(ele) \n",
    "      \n",
    "print(list1)\n",
    "total = 0\n",
    "for ele in range(0, len(list1)):\n",
    "    total = total + list1[ele]\n",
    "print(\"Sum : \", total)\n",
    "\n",
    "def evenodd(list1): \n",
    "   Even_list=[]\n",
    "   Odd_list=[] \n",
    "   for i in list1: \n",
    "      if (i % 2 == 0): \n",
    "         Even_list.append(i) \n",
    "      else: \n",
    "         Odd_list.append(i) \n",
    "   print(\"Even lists:\", Even_list) \n",
    "   print(\"Odd lists:\", Odd_list) \n",
    "    \n",
    "evenodd(list1)"
   ]
  },
  {
   "cell_type": "code",
   "execution_count": 44,
   "id": "9d618d97",
   "metadata": {},
   "outputs": [
    {
     "name": "stdout",
     "output_type": "stream",
     "text": [
      "Enter a : 1\n",
      "Enter b : 6\n",
      "Enter c : 9\n",
      " real and same roots\n",
      "-3.0\n"
     ]
    }
   ],
   "source": [
    "#QUESTION 7\n",
    "\n",
    "import math \n",
    "  \n",
    "\n",
    "def equationroots( a, b, c): \n",
    "  \n",
    "    dis = b * b - 4 * a * c \n",
    "    sqrt_val = math.sqrt(abs(dis)) \n",
    "      \n",
    "    if dis > 0: \n",
    "        print(\" real and different roots \") \n",
    "        print((-b + sqrt_val)/(2 * a)) \n",
    "        print((-b - sqrt_val)/(2 * a)) \n",
    "      \n",
    "    elif dis == 0: \n",
    "        print(\" real and same roots\") \n",
    "        print(-b / (2 * a)) \n",
    "\n",
    "    else:\n",
    "        print(\"Complex Roots\") \n",
    "        print(- b / (2 * a), \" + i\", sqrt_val) \n",
    "        print(- b / (2 * a), \" - i\", sqrt_val) \n",
    "\n",
    "a = int(input(\"Enter a : \"))\n",
    "b = int(input(\"Enter b : \"))\n",
    "c = int(input(\"Enter c : \"))\n",
    "\n",
    "if a == 0: \n",
    "        print(\"Input correct quadratic equation\") \n",
    "  \n",
    "else:\n",
    "    equationroots(a, b, c)"
   ]
  },
  {
   "cell_type": "code",
   "execution_count": 45,
   "id": "d8658c3b",
   "metadata": {},
   "outputs": [
    {
     "name": "stdout",
     "output_type": "stream",
     "text": [
      "Current Number 0Previous Number 0is 0\n",
      "Current Number 1Previous Number 0is 1\n",
      "Current Number 2Previous Number 1is 3\n",
      "Current Number 3Previous Number 2is 5\n",
      "Current Number 4Previous Number 3is 7\n",
      "Current Number 5Previous Number 4is 9\n",
      "Current Number 6Previous Number 5is 11\n",
      "Current Number 7Previous Number 6is 13\n",
      "Current Number 8Previous Number 7is 15\n",
      "Current Number 9Previous Number 8is 17\n",
      "Current Number 10Previous Number 9is 19\n"
     ]
    }
   ],
   "source": [
    "#QUESTION 8\n",
    "\n",
    "num = list(range(11))\n",
    "previousNum = 0\n",
    "for i in num:\n",
    "    sum = previousNum + i\n",
    "    print('Current Number '+ str(i) + 'Previous Number ' + str(previousNum) + 'is ' + str(sum)) \n",
    "    previousNum=i"
   ]
  },
  {
   "cell_type": "code",
   "execution_count": 46,
   "id": "39161002",
   "metadata": {},
   "outputs": [
    {
     "name": "stdout",
     "output_type": "stream",
     "text": [
      "Enter the lower bound: 5\n",
      "Enter the upper bound: 20\n",
      "Prime numbers between 5 and 20 are:\n",
      "5 7 11 13 17 19 "
     ]
    }
   ],
   "source": [
    "#QUESTION 9\n",
    "\n",
    "start = int(input(\"Enter the lower bound: \"))\n",
    "stop = int(input(\"Enter the upper bound: \"))\n",
    "print(\"Prime numbers between\", start, \"and\", stop, \"are:\")\n",
    "for val in range(start, stop):\n",
    "  if val > 1:\n",
    "    for i in range(2, val):\n",
    "      if (val % i) == 0:\n",
    "        break\n",
    "    else:\n",
    "      print(val, end=\" \")"
   ]
  },
  {
   "cell_type": "code",
   "execution_count": 47,
   "id": "adaf69da",
   "metadata": {},
   "outputs": [
    {
     "name": "stdout",
     "output_type": "stream",
     "text": [
      "Enter the Range Number: 15\n",
      "0\n",
      "1\n",
      "1\n",
      "2\n",
      "3\n",
      "5\n",
      "8\n",
      "13\n",
      "21\n",
      "34\n",
      "55\n",
      "89\n",
      "144\n",
      "233\n",
      "377\n"
     ]
    }
   ],
   "source": [
    "#QUESTION 10\n",
    "\n",
    "num = int(input(\"Enter the Range Number: \"))\n",
    "First_val = 0\n",
    "Second_val = 1\n",
    "for n in range(0, num):\n",
    "           if(n <= 1):\n",
    "                      next = n\n",
    "           else:\n",
    "                      next = First_val + Second_val\n",
    "                      First_val = Second_val\n",
    "                      Second_val = next\n",
    "           print(next)"
   ]
  }
 ],
 "metadata": {
  "kernelspec": {
   "display_name": "Python 3 (ipykernel)",
   "language": "python",
   "name": "python3"
  },
  "language_info": {
   "codemirror_mode": {
    "name": "ipython",
    "version": 3
   },
   "file_extension": ".py",
   "mimetype": "text/x-python",
   "name": "python",
   "nbconvert_exporter": "python",
   "pygments_lexer": "ipython3",
   "version": "3.9.13"
  }
 },
 "nbformat": 4,
 "nbformat_minor": 5
}
