{
 "cells": [
  {
   "cell_type": "code",
   "execution_count": 1,
   "id": "5294be2a",
   "metadata": {},
   "outputs": [
    {
     "name": "stdout",
     "output_type": "stream",
     "text": [
      "Enter number of elements : 4\n",
      "0\n",
      "2\n",
      "5\n",
      "7\n",
      "[0, 2, 5, 7]\n",
      "Sum :  14\n"
     ]
    }
   ],
   "source": [
    "#Question 1\n",
    "list1= []\n",
    "n = int(input(\"Enter number of elements : \"))\n",
    "\n",
    "for i in range(0, n):\n",
    "    ele = int(input())\n",
    "  \n",
    "    list1.append(ele) \n",
    "      \n",
    "print(list1)\n",
    "total = 0\n",
    "for ele in range(0, len(list1)):\n",
    "    total = total + list1[ele]\n",
    "print(\"Sum : \", total)"
   ]
  },
  {
   "cell_type": "code",
   "execution_count": 4,
   "id": "2038bf1e",
   "metadata": {},
   "outputs": [
    {
     "name": "stdout",
     "output_type": "stream",
     "text": [
      "Enter String : vgb\n",
      "The string is not a palindrome.\n"
     ]
    }
   ],
   "source": [
    "#Question 2\n",
    "\n",
    "my_str = input(\"Enter String : \")\n",
    "my_str = my_str.casefold()\n",
    "rev_str = reversed(my_str)\n",
    "if list(my_str) == list(rev_str):\n",
    "   print(\"The string is a palindrome.\")\n",
    "else:\n",
    "   print(\"The string is not a palindrome.\")"
   ]
  },
  {
   "cell_type": "code",
   "execution_count": 6,
   "id": "c91912bd",
   "metadata": {},
   "outputs": [
    {
     "name": "stdout",
     "output_type": "stream",
     "text": [
      "Enter the Range Number: 7\n",
      "0\n",
      "1\n",
      "1\n",
      "2\n",
      "3\n",
      "5\n",
      "8\n"
     ]
    }
   ],
   "source": [
    "#Question 3\n",
    "num = int(input(\"Enter the Range Number: \"))\n",
    "First_val = 0\n",
    "Second_val = 1\n",
    "for n in range(0, num):\n",
    "           if(n <= 1):\n",
    "                      next = n\n",
    "           else:\n",
    "                      next = First_val + Second_val\n",
    "                      First_val = Second_val\n",
    "                      Second_val = next\n",
    "           print(next)"
   ]
  },
  {
   "cell_type": "code",
   "execution_count": 9,
   "id": "9ac23826",
   "metadata": {},
   "outputs": [
    {
     "name": "stdout",
     "output_type": "stream",
     "text": [
      "Enter the Number: 5\n",
      "5 * 1 = 5\n",
      "5 * 2 = 10\n",
      "5 * 3 = 15\n",
      "5 * 4 = 20\n",
      "5 * 5 = 25\n",
      "5 * 6 = 30\n",
      "5 * 7 = 35\n",
      "5 * 8 = 40\n",
      "5 * 9 = 45\n",
      "5 * 10 = 50\n"
     ]
    }
   ],
   "source": [
    "#Question 4\n",
    "def mul_table(N, i):    \n",
    "    if (i > 10):\n",
    "        return\n",
    "    print(N,\"*\",i,\"=\",N * i)\n",
    "    return mul_table(N, i + 1)\n",
    "N = int(input(\"Enter the Number: \"))\n",
    "mul_table(N, 1)"
   ]
  },
  {
   "cell_type": "code",
   "execution_count": 13,
   "id": "523a7704",
   "metadata": {},
   "outputs": [
    {
     "name": "stdout",
     "output_type": "stream",
     "text": [
      "Enter the Word : word\n",
      "Total number of vowels is:  1\n",
      "Total number of consonants is:  3\n"
     ]
    }
   ],
   "source": [
    "#Question 5\n",
    "vcount = 0 \n",
    "ccount = 0 \n",
    "str = input(\"Enter the Word : \")  \n",
    "str = str.lower()\n",
    "for i in range(0,len(str)):    \n",
    "    if str[i] in ('a',\"e\",\"i\",\"o\",\"u\"):  \n",
    "        vcount = vcount + 1  \n",
    "    elif (str[i] >= 'a' and str[i] <= 'z'):  \n",
    "        ccount = ccount + 1  \n",
    "print(\"Total number of vowels is: \",vcount)\n",
    "print(\"Total number of consonants is: \",ccount)"
   ]
  },
  {
   "cell_type": "code",
   "execution_count": 18,
   "id": "c4688211",
   "metadata": {},
   "outputs": [
    {
     "name": "stdout",
     "output_type": "stream",
     "text": [
      "Enter the Word : word\n",
      "WORD\n"
     ]
    }
   ],
   "source": [
    "#Question 6\n",
    "str = input(\"Enter the Word : \") \n",
    "print(str.upper())\n",
    "\n"
   ]
  },
  {
   "cell_type": "code",
   "execution_count": 20,
   "id": "ef82f470",
   "metadata": {},
   "outputs": [
    {
     "name": "stdout",
     "output_type": "stream",
     "text": [
      "Original list:\n",
      "[12, 0, None, 23, None, -55, 234, 89, None, 0, 6, -12]\n",
      "\n",
      "Remove None value from the said list:\n",
      "[12, 0, 23, -55, 234, 89, 0, 6, -12]\n"
     ]
    }
   ],
   "source": [
    "#Question 7\n",
    "def remove_none(nums):\n",
    "    result = filter(lambda v: v is not None, nums)\n",
    "    return list(result)\n",
    "\n",
    "nums = [12, 0, None, 23, None, -55, 234, 89, None, 0, 6, -12]\n",
    "print(\"Original list:\")\n",
    "print(nums)\n",
    "print(\"\\nRemove None value from the said list:\")\n",
    "print(remove_none(nums))"
   ]
  },
  {
   "cell_type": "code",
   "execution_count": 22,
   "id": "3b496c93",
   "metadata": {},
   "outputs": [
    {
     "name": "stdout",
     "output_type": "stream",
     "text": [
      "The length of rectangle is:  7\n",
      "The width of rectangle is:  5\n",
      "The perimeter of rectangle is:  24\n",
      "The area of rectangle is:  35\n",
      "the volume of myParallelepipede is:  70\n"
     ]
    }
   ],
   "source": [
    "#Question 8\n",
    "class Rectangle:\n",
    "    def __init__(self, length , width):\n",
    "        self.length = length\n",
    "        self.width = width\n",
    "        \n",
    "    def Perimeter(self):\n",
    "        return 2*(self.length + self.width)\n",
    "    \n",
    "    def Area(self):\n",
    "        return self.length*self.width   \n",
    "    \n",
    "    def display(self):\n",
    "        print(\"The length of rectangle is: \", self.length)\n",
    "        print(\"The width of rectangle is: \", self.width)\n",
    "        print(\"The perimeter of rectangle is: \", self.Perimeter())\n",
    "        print(\"The area of rectangle is: \", self.Area())\n",
    "class Parallelepipede(Rectangle):\n",
    "    def __init__(self, length, width , height):\n",
    "        Rectangle.__init__(self, length, width)\n",
    "        self.height = height\n",
    "        \n",
    "    def volume(self):\n",
    "        return self.length*self.width*self.height\n",
    "        \n",
    "myRectangle = Rectangle(7 , 5)\n",
    "myRectangle.display()\n",
    "myParallelepipede = Parallelepipede(7 , 5 , 2)\n",
    "print(\"the volume of myParallelepipede is: \" , myParallelepipede.volume())"
   ]
  },
  {
   "cell_type": "code",
   "execution_count": 26,
   "id": "0e8eadec",
   "metadata": {},
   "outputs": [
    {
     "name": "stdout",
     "output_type": "stream",
     "text": [
      "Account Number :  1545478525\n",
      "Account Name :  Ruth\n",
      "Account Balance :  4400\n"
     ]
    }
   ],
   "source": [
    "#Question 9\n",
    "class BankAccount:\n",
    "    def __init__(self,accountNumber, name, balance):\n",
    "        self.accountNumber = accountNumber\n",
    "        self.name = name\n",
    "        self.balance = balance\n",
    "        \n",
    "    def Deposit(self , d ):\n",
    "        self.balance = self.balance + d\n",
    "    \n",
    "    def Withdrawal(self , w):\n",
    "        if(self.balance < w):\n",
    "            print(\"impossible operation! Insufficient balance !\")\n",
    "        else:\n",
    "            self.balance = self.balance - w\n",
    "    def bankFees(self):\n",
    "        self.balance = (95/100)*self.balance\n",
    "\n",
    "    def display(self):\n",
    "        print(\"Account Number : \" , self.accountNumber)\n",
    "        print(\"Account Name : \" , self.name)\n",
    "        print(\"Account Balance : \" , self.balance)\n",
    "\n",
    "newAccount = BankAccount(1545478525, \"Ruth\" , 4500)\n",
    "newAccount.Withdrawal(300)\n",
    "newAccount.Deposit(200)\n",
    "newAccount.display()"
   ]
  }
 ],
 "metadata": {
  "kernelspec": {
   "display_name": "Python 3 (ipykernel)",
   "language": "python",
   "name": "python3"
  },
  "language_info": {
   "codemirror_mode": {
    "name": "ipython",
    "version": 3
   },
   "file_extension": ".py",
   "mimetype": "text/x-python",
   "name": "python",
   "nbconvert_exporter": "python",
   "pygments_lexer": "ipython3",
   "version": "3.9.13"
  }
 },
 "nbformat": 4,
 "nbformat_minor": 5
}
